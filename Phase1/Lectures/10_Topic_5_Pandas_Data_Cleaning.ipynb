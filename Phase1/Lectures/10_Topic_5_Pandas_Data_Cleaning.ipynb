{
 "cells": [
  {
   "cell_type": "markdown",
   "metadata": {},
   "source": [
    "![panda](http://res.freestockphotos.biz/thumbs/3/3173-illustration-of-a-giant-panda-eating-bamboo-th.png)"
   ]
  },
  {
   "cell_type": "markdown",
   "metadata": {
    "heading_collapsed": true
   },
   "source": [
    "# Pandas Data Cleaning"
   ]
  },
  {
   "cell_type": "markdown",
   "metadata": {
    "heading_collapsed": true
   },
   "source": [
    "# Objectives"
   ]
  },
  {
   "cell_type": "markdown",
   "metadata": {
    "hidden": true
   },
   "source": [
    "- Handle missing data, and recognize when different strategies for handling missing data would be appropriate\n",
    "- Use DataFrame methods (and sometimes lambda functions) to transform data\n",
    "- Use string methods to transform object-type columns"
   ]
  },
  {
   "cell_type": "code",
   "execution_count": 5,
   "metadata": {},
   "outputs": [],
   "source": [
    "# Imports\n",
    "\n",
    "import pandas as pan\n",
    "import numpy as np\n",
    "\n",
    "import matplotlib.pyplot as plt\n",
    "import seaborn as sns"
   ]
  },
  {
   "cell_type": "markdown",
   "metadata": {},
   "source": [
    "## To The Center!\n",
    "\n",
    "That's right - we're still working with Austin Animal Center data! But now, let's check out the Outcomes data, instead of the Intakes data we were working with before.\n",
    "\n",
    "Data source: https://data.austintexas.gov/Health-and-Community-Services/Austin-Animal-Center-Outcomes/9t4d-g238"
   ]
  },
  {
   "cell_type": "code",
   "execution_count": 6,
   "metadata": {},
   "outputs": [],
   "source": [
    "# Read in the animal center outcomes data as df\n",
    "# Can use parse_dates and pass a column name to read it as a datetime\n",
    "df = pan.read_json(\"https://data.austintexas.gov/resource/9t4d-g238.json\")"
   ]
  },
  {
   "cell_type": "code",
   "execution_count": 12,
   "metadata": {},
   "outputs": [
    {
     "data": {
      "text/html": [
       "<div>\n",
       "<style scoped>\n",
       "    .dataframe tbody tr th:only-of-type {\n",
       "        vertical-align: middle;\n",
       "    }\n",
       "\n",
       "    .dataframe tbody tr th {\n",
       "        vertical-align: top;\n",
       "    }\n",
       "\n",
       "    .dataframe thead th {\n",
       "        text-align: right;\n",
       "    }\n",
       "</style>\n",
       "<table border=\"1\" class=\"dataframe\">\n",
       "  <thead>\n",
       "    <tr style=\"text-align: right;\">\n",
       "      <th></th>\n",
       "      <th>animal_id</th>\n",
       "      <th>name</th>\n",
       "      <th>datetime</th>\n",
       "      <th>monthyear</th>\n",
       "      <th>date_of_birth</th>\n",
       "      <th>outcome_type</th>\n",
       "      <th>outcome_subtype</th>\n",
       "      <th>animal_type</th>\n",
       "      <th>sex_upon_outcome</th>\n",
       "      <th>age_upon_outcome</th>\n",
       "      <th>breed</th>\n",
       "      <th>color</th>\n",
       "    </tr>\n",
       "  </thead>\n",
       "  <tbody>\n",
       "    <tr>\n",
       "      <th>0</th>\n",
       "      <td>A875023</td>\n",
       "      <td>Mystery Blacks</td>\n",
       "      <td>2023-02-27 07:59:00</td>\n",
       "      <td>2023-02-27T07:59:00.000</td>\n",
       "      <td>2020-02-21T00:00:00.000</td>\n",
       "      <td>Transfer</td>\n",
       "      <td>Snr</td>\n",
       "      <td>Cat</td>\n",
       "      <td>Intact Male</td>\n",
       "      <td>3 years</td>\n",
       "      <td>Domestic Shorthair Mix</td>\n",
       "      <td>Black</td>\n",
       "    </tr>\n",
       "    <tr>\n",
       "      <th>1</th>\n",
       "      <td>A874710</td>\n",
       "      <td>Hamlet</td>\n",
       "      <td>2023-02-27 07:59:00</td>\n",
       "      <td>2023-02-27T07:59:00.000</td>\n",
       "      <td>2021-02-16T00:00:00.000</td>\n",
       "      <td>Transfer</td>\n",
       "      <td>Snr</td>\n",
       "      <td>Cat</td>\n",
       "      <td>Intact Male</td>\n",
       "      <td>2 years</td>\n",
       "      <td>Domestic Shorthair</td>\n",
       "      <td>Blue Tabby/White</td>\n",
       "    </tr>\n",
       "    <tr>\n",
       "      <th>2</th>\n",
       "      <td>A874555</td>\n",
       "      <td>*Pam</td>\n",
       "      <td>2023-02-27 07:58:00</td>\n",
       "      <td>2023-02-27T07:58:00.000</td>\n",
       "      <td>2021-02-14T00:00:00.000</td>\n",
       "      <td>Transfer</td>\n",
       "      <td>Snr</td>\n",
       "      <td>Cat</td>\n",
       "      <td>Intact Female</td>\n",
       "      <td>2 years</td>\n",
       "      <td>Domestic Shorthair</td>\n",
       "      <td>Brown Tabby</td>\n",
       "    </tr>\n",
       "    <tr>\n",
       "      <th>3</th>\n",
       "      <td>A875111</td>\n",
       "      <td>Eddie</td>\n",
       "      <td>2023-02-27 07:58:00</td>\n",
       "      <td>2023-02-27T07:58:00.000</td>\n",
       "      <td>2022-02-22T00:00:00.000</td>\n",
       "      <td>Transfer</td>\n",
       "      <td>Snr</td>\n",
       "      <td>Cat</td>\n",
       "      <td>Intact Male</td>\n",
       "      <td>1 year</td>\n",
       "      <td>Domestic Shorthair</td>\n",
       "      <td>Gray Tabby/White</td>\n",
       "    </tr>\n",
       "    <tr>\n",
       "      <th>4</th>\n",
       "      <td>A874604</td>\n",
       "      <td>NaN</td>\n",
       "      <td>2023-02-27 07:57:00</td>\n",
       "      <td>2023-02-27T07:57:00.000</td>\n",
       "      <td>2021-02-15T00:00:00.000</td>\n",
       "      <td>Transfer</td>\n",
       "      <td>Snr</td>\n",
       "      <td>Cat</td>\n",
       "      <td>Intact Female</td>\n",
       "      <td>2 years</td>\n",
       "      <td>Domestic Shorthair</td>\n",
       "      <td>Tortie/White</td>\n",
       "    </tr>\n",
       "    <tr>\n",
       "      <th>5</th>\n",
       "      <td>A874160</td>\n",
       "      <td>Charlie</td>\n",
       "      <td>2023-02-26 19:10:00</td>\n",
       "      <td>2023-02-26T19:10:00.000</td>\n",
       "      <td>2021-12-25T00:00:00.000</td>\n",
       "      <td>Adoption</td>\n",
       "      <td>NaN</td>\n",
       "      <td>Dog</td>\n",
       "      <td>Neutered Male</td>\n",
       "      <td>1 year</td>\n",
       "      <td>Pit Bull Mix</td>\n",
       "      <td>White/Gold</td>\n",
       "    </tr>\n",
       "    <tr>\n",
       "      <th>6</th>\n",
       "      <td>A873912</td>\n",
       "      <td>*Gunner</td>\n",
       "      <td>2023-02-26 19:02:00</td>\n",
       "      <td>2023-02-26T19:02:00.000</td>\n",
       "      <td>2021-02-02T00:00:00.000</td>\n",
       "      <td>Adoption</td>\n",
       "      <td>NaN</td>\n",
       "      <td>Dog</td>\n",
       "      <td>Neutered Male</td>\n",
       "      <td>2 years</td>\n",
       "      <td>Australian Cattle Dog Mix</td>\n",
       "      <td>Black/Gray</td>\n",
       "    </tr>\n",
       "    <tr>\n",
       "      <th>7</th>\n",
       "      <td>A873219</td>\n",
       "      <td>*Naan</td>\n",
       "      <td>2023-02-26 18:45:00</td>\n",
       "      <td>2023-02-26T18:45:00.000</td>\n",
       "      <td>2022-01-22T00:00:00.000</td>\n",
       "      <td>Adoption</td>\n",
       "      <td>NaN</td>\n",
       "      <td>Cat</td>\n",
       "      <td>Spayed Female</td>\n",
       "      <td>1 year</td>\n",
       "      <td>Domestic Longhair</td>\n",
       "      <td>Blue</td>\n",
       "    </tr>\n",
       "    <tr>\n",
       "      <th>8</th>\n",
       "      <td>A873293</td>\n",
       "      <td>*Paprika</td>\n",
       "      <td>2023-02-26 18:43:00</td>\n",
       "      <td>2023-02-26T18:43:00.000</td>\n",
       "      <td>2021-01-23T00:00:00.000</td>\n",
       "      <td>Adoption</td>\n",
       "      <td>NaN</td>\n",
       "      <td>Cat</td>\n",
       "      <td>Neutered Male</td>\n",
       "      <td>2 years</td>\n",
       "      <td>Domestic Shorthair</td>\n",
       "      <td>Brown Tabby</td>\n",
       "    </tr>\n",
       "    <tr>\n",
       "      <th>9</th>\n",
       "      <td>A875074</td>\n",
       "      <td>Mikey</td>\n",
       "      <td>2023-02-26 18:15:00</td>\n",
       "      <td>2023-02-26T18:15:00.000</td>\n",
       "      <td>2015-02-24T00:00:00.000</td>\n",
       "      <td>Adoption</td>\n",
       "      <td>NaN</td>\n",
       "      <td>Dog</td>\n",
       "      <td>Neutered Male</td>\n",
       "      <td>8 years</td>\n",
       "      <td>Chihuahua Shorthair</td>\n",
       "      <td>Brown</td>\n",
       "    </tr>\n",
       "    <tr>\n",
       "      <th>10</th>\n",
       "      <td>A875112</td>\n",
       "      <td>NaN</td>\n",
       "      <td>2023-02-26 17:57:00</td>\n",
       "      <td>2023-02-26T17:57:00.000</td>\n",
       "      <td>2020-02-22T00:00:00.000</td>\n",
       "      <td>Euthanasia</td>\n",
       "      <td>Suffering</td>\n",
       "      <td>Dog</td>\n",
       "      <td>Spayed Female</td>\n",
       "      <td>3 years</td>\n",
       "      <td>Chihuahua Shorthair</td>\n",
       "      <td>White/Brown</td>\n",
       "    </tr>\n",
       "    <tr>\n",
       "      <th>11</th>\n",
       "      <td>A873856</td>\n",
       "      <td>*Mr. Bug</td>\n",
       "      <td>2023-02-26 17:51:00</td>\n",
       "      <td>2023-02-26T17:51:00.000</td>\n",
       "      <td>2020-02-01T00:00:00.000</td>\n",
       "      <td>Adoption</td>\n",
       "      <td>NaN</td>\n",
       "      <td>Dog</td>\n",
       "      <td>Neutered Male</td>\n",
       "      <td>3 years</td>\n",
       "      <td>Australian Cattle Dog</td>\n",
       "      <td>Black/White</td>\n",
       "    </tr>\n",
       "    <tr>\n",
       "      <th>12</th>\n",
       "      <td>A873106</td>\n",
       "      <td>*Maisy</td>\n",
       "      <td>2023-02-26 16:19:00</td>\n",
       "      <td>2023-02-26T16:19:00.000</td>\n",
       "      <td>2022-12-20T00:00:00.000</td>\n",
       "      <td>Adoption</td>\n",
       "      <td>Foster</td>\n",
       "      <td>Cat</td>\n",
       "      <td>Spayed Female</td>\n",
       "      <td>2 months</td>\n",
       "      <td>Domestic Shorthair</td>\n",
       "      <td>Brown Tabby</td>\n",
       "    </tr>\n",
       "    <tr>\n",
       "      <th>13</th>\n",
       "      <td>A873107</td>\n",
       "      <td>*Flynn</td>\n",
       "      <td>2023-02-26 16:13:00</td>\n",
       "      <td>2023-02-26T16:13:00.000</td>\n",
       "      <td>2022-12-20T00:00:00.000</td>\n",
       "      <td>Adoption</td>\n",
       "      <td>Foster</td>\n",
       "      <td>Cat</td>\n",
       "      <td>Spayed Female</td>\n",
       "      <td>2 months</td>\n",
       "      <td>Domestic Shorthair</td>\n",
       "      <td>Brown Tabby</td>\n",
       "    </tr>\n",
       "    <tr>\n",
       "      <th>14</th>\n",
       "      <td>A869448</td>\n",
       "      <td>*Al</td>\n",
       "      <td>2023-02-26 15:53:00</td>\n",
       "      <td>2023-02-26T15:53:00.000</td>\n",
       "      <td>2020-11-18T00:00:00.000</td>\n",
       "      <td>Adoption</td>\n",
       "      <td>Foster</td>\n",
       "      <td>Cat</td>\n",
       "      <td>Neutered Male</td>\n",
       "      <td>2 years</td>\n",
       "      <td>Domestic Shorthair</td>\n",
       "      <td>Black/White</td>\n",
       "    </tr>\n",
       "    <tr>\n",
       "      <th>15</th>\n",
       "      <td>A874763</td>\n",
       "      <td>Cupo</td>\n",
       "      <td>2023-02-26 15:51:00</td>\n",
       "      <td>2023-02-26T15:51:00.000</td>\n",
       "      <td>2019-09-17T00:00:00.000</td>\n",
       "      <td>Adoption</td>\n",
       "      <td>NaN</td>\n",
       "      <td>Dog</td>\n",
       "      <td>Neutered Male</td>\n",
       "      <td>3 years</td>\n",
       "      <td>Plott Hound</td>\n",
       "      <td>Black/Brown</td>\n",
       "    </tr>\n",
       "    <tr>\n",
       "      <th>16</th>\n",
       "      <td>A874121</td>\n",
       "      <td>A874121</td>\n",
       "      <td>2023-02-26 15:43:00</td>\n",
       "      <td>2023-02-26T15:43:00.000</td>\n",
       "      <td>2022-02-06T00:00:00.000</td>\n",
       "      <td>Return to Owner</td>\n",
       "      <td>NaN</td>\n",
       "      <td>Cat</td>\n",
       "      <td>Neutered Male</td>\n",
       "      <td>1 year</td>\n",
       "      <td>Domestic Shorthair Mix</td>\n",
       "      <td>Black/White</td>\n",
       "    </tr>\n",
       "    <tr>\n",
       "      <th>17</th>\n",
       "      <td>A861398</td>\n",
       "      <td>Molly</td>\n",
       "      <td>2023-02-26 15:00:00</td>\n",
       "      <td>2023-02-26T15:00:00.000</td>\n",
       "      <td>2022-05-02T00:00:00.000</td>\n",
       "      <td>Return to Owner</td>\n",
       "      <td>NaN</td>\n",
       "      <td>Dog</td>\n",
       "      <td>Spayed Female</td>\n",
       "      <td>9 months</td>\n",
       "      <td>German Shepherd</td>\n",
       "      <td>Brown/Tan</td>\n",
       "    </tr>\n",
       "    <tr>\n",
       "      <th>18</th>\n",
       "      <td>A869178</td>\n",
       "      <td>*Simba</td>\n",
       "      <td>2023-02-26 15:00:00</td>\n",
       "      <td>2023-02-26T15:00:00.000</td>\n",
       "      <td>2022-04-14T00:00:00.000</td>\n",
       "      <td>Adoption</td>\n",
       "      <td>NaN</td>\n",
       "      <td>Cat</td>\n",
       "      <td>Neutered Male</td>\n",
       "      <td>10 months</td>\n",
       "      <td>Domestic Shorthair Mix</td>\n",
       "      <td>Orange Tabby</td>\n",
       "    </tr>\n",
       "    <tr>\n",
       "      <th>19</th>\n",
       "      <td>A844791</td>\n",
       "      <td>Tiger</td>\n",
       "      <td>2023-02-26 14:58:00</td>\n",
       "      <td>2023-02-26T14:58:00.000</td>\n",
       "      <td>2019-10-20T00:00:00.000</td>\n",
       "      <td>Return to Owner</td>\n",
       "      <td>NaN</td>\n",
       "      <td>Dog</td>\n",
       "      <td>Neutered Male</td>\n",
       "      <td>3 years</td>\n",
       "      <td>Pit Bull</td>\n",
       "      <td>Brown Brindle/White</td>\n",
       "    </tr>\n",
       "    <tr>\n",
       "      <th>20</th>\n",
       "      <td>A875394</td>\n",
       "      <td>Ziggy</td>\n",
       "      <td>2023-02-26 14:58:00</td>\n",
       "      <td>2023-02-26T14:58:00.000</td>\n",
       "      <td>2021-02-26T00:00:00.000</td>\n",
       "      <td>Return to Owner</td>\n",
       "      <td>NaN</td>\n",
       "      <td>Cat</td>\n",
       "      <td>Intact Female</td>\n",
       "      <td>2 years</td>\n",
       "      <td>Domestic Medium Hair</td>\n",
       "      <td>White/Black</td>\n",
       "    </tr>\n",
       "    <tr>\n",
       "      <th>21</th>\n",
       "      <td>A875386</td>\n",
       "      <td>Shakira</td>\n",
       "      <td>2023-02-26 14:55:00</td>\n",
       "      <td>2023-02-26T14:55:00.000</td>\n",
       "      <td>2020-02-26T00:00:00.000</td>\n",
       "      <td>Return to Owner</td>\n",
       "      <td>NaN</td>\n",
       "      <td>Dog</td>\n",
       "      <td>Intact Female</td>\n",
       "      <td>3 years</td>\n",
       "      <td>Labrador Retriever/Great Pyrenees</td>\n",
       "      <td>Tan/White</td>\n",
       "    </tr>\n",
       "    <tr>\n",
       "      <th>22</th>\n",
       "      <td>A874603</td>\n",
       "      <td>Pea</td>\n",
       "      <td>2023-02-26 14:17:00</td>\n",
       "      <td>2023-02-26T14:17:00.000</td>\n",
       "      <td>2021-07-15T00:00:00.000</td>\n",
       "      <td>Adoption</td>\n",
       "      <td>NaN</td>\n",
       "      <td>Other</td>\n",
       "      <td>Intact Male</td>\n",
       "      <td>1 year</td>\n",
       "      <td>Rabbit Sh</td>\n",
       "      <td>White/Brown</td>\n",
       "    </tr>\n",
       "    <tr>\n",
       "      <th>23</th>\n",
       "      <td>A874833</td>\n",
       "      <td>*Toochi</td>\n",
       "      <td>2023-02-26 13:42:00</td>\n",
       "      <td>2023-02-26T13:42:00.000</td>\n",
       "      <td>2022-12-18T00:00:00.000</td>\n",
       "      <td>Adoption</td>\n",
       "      <td>NaN</td>\n",
       "      <td>Dog</td>\n",
       "      <td>Spayed Female</td>\n",
       "      <td>2 months</td>\n",
       "      <td>Labrador Retriever/Plott Hound</td>\n",
       "      <td>White</td>\n",
       "    </tr>\n",
       "    <tr>\n",
       "      <th>24</th>\n",
       "      <td>A875294</td>\n",
       "      <td>George</td>\n",
       "      <td>2023-02-26 13:31:00</td>\n",
       "      <td>2023-02-26T13:31:00.000</td>\n",
       "      <td>2021-02-24T00:00:00.000</td>\n",
       "      <td>Return to Owner</td>\n",
       "      <td>NaN</td>\n",
       "      <td>Dog</td>\n",
       "      <td>Intact Male</td>\n",
       "      <td>2 years</td>\n",
       "      <td>Flat Coat Retriever</td>\n",
       "      <td>Black</td>\n",
       "    </tr>\n",
       "    <tr>\n",
       "      <th>25</th>\n",
       "      <td>A874636</td>\n",
       "      <td>*Melba</td>\n",
       "      <td>2023-02-26 13:28:00</td>\n",
       "      <td>2023-02-26T13:28:00.000</td>\n",
       "      <td>2022-02-15T00:00:00.000</td>\n",
       "      <td>Adoption</td>\n",
       "      <td>NaN</td>\n",
       "      <td>Dog</td>\n",
       "      <td>Spayed Female</td>\n",
       "      <td>1 year</td>\n",
       "      <td>Great Pyrenees</td>\n",
       "      <td>White</td>\n",
       "    </tr>\n",
       "    <tr>\n",
       "      <th>26</th>\n",
       "      <td>A873328</td>\n",
       "      <td>Kimmy</td>\n",
       "      <td>2023-02-26 12:24:00</td>\n",
       "      <td>2023-02-26T12:24:00.000</td>\n",
       "      <td>2022-05-23T00:00:00.000</td>\n",
       "      <td>Adoption</td>\n",
       "      <td>NaN</td>\n",
       "      <td>Dog</td>\n",
       "      <td>Spayed Female</td>\n",
       "      <td>9 months</td>\n",
       "      <td>Labrador Retriever Mix</td>\n",
       "      <td>Brown/White</td>\n",
       "    </tr>\n",
       "    <tr>\n",
       "      <th>27</th>\n",
       "      <td>A872680</td>\n",
       "      <td>*Maaz</td>\n",
       "      <td>2023-02-26 00:00:00</td>\n",
       "      <td>2023-02-26T00:00:00.000</td>\n",
       "      <td>2022-12-31T00:00:00.000</td>\n",
       "      <td>Adoption</td>\n",
       "      <td>NaN</td>\n",
       "      <td>Dog</td>\n",
       "      <td>Spayed Female</td>\n",
       "      <td>1 month</td>\n",
       "      <td>Australian Cattle Dog/Catahoula</td>\n",
       "      <td>White</td>\n",
       "    </tr>\n",
       "    <tr>\n",
       "      <th>28</th>\n",
       "      <td>A873969</td>\n",
       "      <td>*Big Beef</td>\n",
       "      <td>2023-02-25 18:46:00</td>\n",
       "      <td>2023-02-25T18:46:00.000</td>\n",
       "      <td>2019-02-03T00:00:00.000</td>\n",
       "      <td>Adoption</td>\n",
       "      <td>NaN</td>\n",
       "      <td>Dog</td>\n",
       "      <td>Neutered Male</td>\n",
       "      <td>4 years</td>\n",
       "      <td>American Bulldog Mix</td>\n",
       "      <td>Black/White</td>\n",
       "    </tr>\n",
       "    <tr>\n",
       "      <th>29</th>\n",
       "      <td>A872885</td>\n",
       "      <td>Bear</td>\n",
       "      <td>2023-02-25 18:45:00</td>\n",
       "      <td>2023-02-25T18:45:00.000</td>\n",
       "      <td>2020-01-17T00:00:00.000</td>\n",
       "      <td>Adoption</td>\n",
       "      <td>NaN</td>\n",
       "      <td>Dog</td>\n",
       "      <td>Neutered Male</td>\n",
       "      <td>3 years</td>\n",
       "      <td>Pit Bull</td>\n",
       "      <td>Tan/White</td>\n",
       "    </tr>\n",
       "    <tr>\n",
       "      <th>30</th>\n",
       "      <td>A868977</td>\n",
       "      <td>Cinnamon</td>\n",
       "      <td>2023-02-25 18:36:00</td>\n",
       "      <td>2023-02-25T18:36:00.000</td>\n",
       "      <td>2021-11-10T00:00:00.000</td>\n",
       "      <td>Adoption</td>\n",
       "      <td>NaN</td>\n",
       "      <td>Dog</td>\n",
       "      <td>Spayed Female</td>\n",
       "      <td>1 year</td>\n",
       "      <td>Labrador Retriever Mix</td>\n",
       "      <td>Chocolate/White</td>\n",
       "    </tr>\n",
       "    <tr>\n",
       "      <th>31</th>\n",
       "      <td>A875215</td>\n",
       "      <td>NaN</td>\n",
       "      <td>2023-02-25 17:12:00</td>\n",
       "      <td>2023-02-25T17:12:00.000</td>\n",
       "      <td>2020-02-23T00:00:00.000</td>\n",
       "      <td>Transfer</td>\n",
       "      <td>Partner</td>\n",
       "      <td>Cat</td>\n",
       "      <td>Spayed Female</td>\n",
       "      <td>3 years</td>\n",
       "      <td>Domestic Shorthair</td>\n",
       "      <td>Brown Tabby</td>\n",
       "    </tr>\n",
       "    <tr>\n",
       "      <th>32</th>\n",
       "      <td>A875355</td>\n",
       "      <td>NaN</td>\n",
       "      <td>2023-02-25 16:59:00</td>\n",
       "      <td>2023-02-25T16:59:00.000</td>\n",
       "      <td>2023-02-10T00:00:00.000</td>\n",
       "      <td>Transfer</td>\n",
       "      <td>Partner</td>\n",
       "      <td>Cat</td>\n",
       "      <td>Unknown</td>\n",
       "      <td>2 weeks</td>\n",
       "      <td>Domestic Shorthair</td>\n",
       "      <td>Blue/White</td>\n",
       "    </tr>\n",
       "    <tr>\n",
       "      <th>33</th>\n",
       "      <td>A875354</td>\n",
       "      <td>NaN</td>\n",
       "      <td>2023-02-25 16:58:00</td>\n",
       "      <td>2023-02-25T16:58:00.000</td>\n",
       "      <td>2023-02-10T00:00:00.000</td>\n",
       "      <td>Transfer</td>\n",
       "      <td>Partner</td>\n",
       "      <td>Cat</td>\n",
       "      <td>Unknown</td>\n",
       "      <td>2 weeks</td>\n",
       "      <td>Domestic Shorthair</td>\n",
       "      <td>Blue Tabby</td>\n",
       "    </tr>\n",
       "    <tr>\n",
       "      <th>34</th>\n",
       "      <td>A875353</td>\n",
       "      <td>NaN</td>\n",
       "      <td>2023-02-25 16:58:00</td>\n",
       "      <td>2023-02-25T16:58:00.000</td>\n",
       "      <td>2023-02-10T00:00:00.000</td>\n",
       "      <td>Transfer</td>\n",
       "      <td>Partner</td>\n",
       "      <td>Cat</td>\n",
       "      <td>Intact Male</td>\n",
       "      <td>2 weeks</td>\n",
       "      <td>Domestic Shorthair</td>\n",
       "      <td>Black</td>\n",
       "    </tr>\n",
       "    <tr>\n",
       "      <th>35</th>\n",
       "      <td>A873239</td>\n",
       "      <td>*Sage</td>\n",
       "      <td>2023-02-25 16:57:00</td>\n",
       "      <td>2023-02-25T16:57:00.000</td>\n",
       "      <td>2021-01-23T00:00:00.000</td>\n",
       "      <td>Adoption</td>\n",
       "      <td>NaN</td>\n",
       "      <td>Cat</td>\n",
       "      <td>Neutered Male</td>\n",
       "      <td>2 years</td>\n",
       "      <td>Domestic Shorthair</td>\n",
       "      <td>Blue</td>\n",
       "    </tr>\n",
       "    <tr>\n",
       "      <th>36</th>\n",
       "      <td>A874677</td>\n",
       "      <td>Major</td>\n",
       "      <td>2023-02-25 16:47:00</td>\n",
       "      <td>2023-02-25T16:47:00.000</td>\n",
       "      <td>2022-09-04T00:00:00.000</td>\n",
       "      <td>Adoption</td>\n",
       "      <td>NaN</td>\n",
       "      <td>Dog</td>\n",
       "      <td>Neutered Male</td>\n",
       "      <td>5 months</td>\n",
       "      <td>Pit Bull</td>\n",
       "      <td>Brown Brindle</td>\n",
       "    </tr>\n",
       "    <tr>\n",
       "      <th>37</th>\n",
       "      <td>A839506</td>\n",
       "      <td>Beau Beau</td>\n",
       "      <td>2023-02-25 16:33:00</td>\n",
       "      <td>2023-02-25T16:33:00.000</td>\n",
       "      <td>2014-07-22T00:00:00.000</td>\n",
       "      <td>Return to Owner</td>\n",
       "      <td>NaN</td>\n",
       "      <td>Dog</td>\n",
       "      <td>Neutered Male</td>\n",
       "      <td>8 years</td>\n",
       "      <td>American Pit Bull Terrier Mix</td>\n",
       "      <td>White/Brown</td>\n",
       "    </tr>\n",
       "    <tr>\n",
       "      <th>38</th>\n",
       "      <td>A875339</td>\n",
       "      <td>NaN</td>\n",
       "      <td>2023-02-25 16:22:00</td>\n",
       "      <td>2023-02-25T16:22:00.000</td>\n",
       "      <td>2021-02-25T00:00:00.000</td>\n",
       "      <td>Euthanasia</td>\n",
       "      <td>Rabies Risk</td>\n",
       "      <td>Other</td>\n",
       "      <td>Unknown</td>\n",
       "      <td>2 years</td>\n",
       "      <td>Raccoon</td>\n",
       "      <td>Gray/Black</td>\n",
       "    </tr>\n",
       "    <tr>\n",
       "      <th>39</th>\n",
       "      <td>A873205</td>\n",
       "      <td>*Mustard</td>\n",
       "      <td>2023-02-25 15:59:00</td>\n",
       "      <td>2023-02-25T15:59:00.000</td>\n",
       "      <td>2021-01-22T00:00:00.000</td>\n",
       "      <td>Adoption</td>\n",
       "      <td>NaN</td>\n",
       "      <td>Cat</td>\n",
       "      <td>Neutered Male</td>\n",
       "      <td>2 years</td>\n",
       "      <td>Domestic Shorthair</td>\n",
       "      <td>Brown Tabby</td>\n",
       "    </tr>\n",
       "    <tr>\n",
       "      <th>40</th>\n",
       "      <td>A872682</td>\n",
       "      <td>NaN</td>\n",
       "      <td>2023-02-25 15:52:00</td>\n",
       "      <td>2023-02-25T15:52:00.000</td>\n",
       "      <td>2022-12-31T00:00:00.000</td>\n",
       "      <td>Adoption</td>\n",
       "      <td>NaN</td>\n",
       "      <td>Dog</td>\n",
       "      <td>Neutered Male</td>\n",
       "      <td>1 month</td>\n",
       "      <td>Australian Cattle Dog/Catahoula</td>\n",
       "      <td>Brown/Black</td>\n",
       "    </tr>\n",
       "    <tr>\n",
       "      <th>41</th>\n",
       "      <td>A875065</td>\n",
       "      <td>A875065</td>\n",
       "      <td>2023-02-25 14:44:00</td>\n",
       "      <td>2023-02-25T14:44:00.000</td>\n",
       "      <td>2021-02-21T00:00:00.000</td>\n",
       "      <td>Transfer</td>\n",
       "      <td>Partner</td>\n",
       "      <td>Cat</td>\n",
       "      <td>Intact Female</td>\n",
       "      <td>2 years</td>\n",
       "      <td>Domestic Shorthair</td>\n",
       "      <td>Brown Tabby/White</td>\n",
       "    </tr>\n",
       "    <tr>\n",
       "      <th>42</th>\n",
       "      <td>A874790</td>\n",
       "      <td>*Trudy</td>\n",
       "      <td>2023-02-25 14:43:00</td>\n",
       "      <td>2023-02-25T14:43:00.000</td>\n",
       "      <td>2021-02-18T00:00:00.000</td>\n",
       "      <td>Transfer</td>\n",
       "      <td>Partner</td>\n",
       "      <td>Cat</td>\n",
       "      <td>Spayed Female</td>\n",
       "      <td>2 years</td>\n",
       "      <td>Domestic Shorthair</td>\n",
       "      <td>Brown Tabby</td>\n",
       "    </tr>\n",
       "    <tr>\n",
       "      <th>43</th>\n",
       "      <td>A875229</td>\n",
       "      <td>Layla</td>\n",
       "      <td>2023-02-25 14:43:00</td>\n",
       "      <td>2023-02-25T14:43:00.000</td>\n",
       "      <td>2022-05-23T00:00:00.000</td>\n",
       "      <td>Transfer</td>\n",
       "      <td>Partner</td>\n",
       "      <td>Cat</td>\n",
       "      <td>Intact Female</td>\n",
       "      <td>9 months</td>\n",
       "      <td>Domestic Shorthair</td>\n",
       "      <td>Gray Tabby/White</td>\n",
       "    </tr>\n",
       "    <tr>\n",
       "      <th>44</th>\n",
       "      <td>A874708</td>\n",
       "      <td>*Bess</td>\n",
       "      <td>2023-02-25 14:21:00</td>\n",
       "      <td>2023-02-25T14:21:00.000</td>\n",
       "      <td>2022-11-16T00:00:00.000</td>\n",
       "      <td>Adoption</td>\n",
       "      <td>NaN</td>\n",
       "      <td>Dog</td>\n",
       "      <td>Spayed Female</td>\n",
       "      <td>3 months</td>\n",
       "      <td>Pit Bull</td>\n",
       "      <td>Blue/White</td>\n",
       "    </tr>\n",
       "    <tr>\n",
       "      <th>45</th>\n",
       "      <td>A875020</td>\n",
       "      <td>Chulo</td>\n",
       "      <td>2023-02-25 13:38:00</td>\n",
       "      <td>2023-02-25T13:38:00.000</td>\n",
       "      <td>2016-02-21T00:00:00.000</td>\n",
       "      <td>Return to Owner</td>\n",
       "      <td>NaN</td>\n",
       "      <td>Dog</td>\n",
       "      <td>Neutered Male</td>\n",
       "      <td>7 years</td>\n",
       "      <td>American Bulldog Mix</td>\n",
       "      <td>Brown</td>\n",
       "    </tr>\n",
       "    <tr>\n",
       "      <th>46</th>\n",
       "      <td>A872917</td>\n",
       "      <td>*Paulie</td>\n",
       "      <td>2023-02-25 13:37:00</td>\n",
       "      <td>2023-02-25T13:37:00.000</td>\n",
       "      <td>2022-07-17T00:00:00.000</td>\n",
       "      <td>Transfer</td>\n",
       "      <td>Partner</td>\n",
       "      <td>Dog</td>\n",
       "      <td>Intact Male</td>\n",
       "      <td>7 months</td>\n",
       "      <td>German Shepherd Mix</td>\n",
       "      <td>Tan/Black</td>\n",
       "    </tr>\n",
       "    <tr>\n",
       "      <th>47</th>\n",
       "      <td>A875131</td>\n",
       "      <td>Felix</td>\n",
       "      <td>2023-02-25 13:33:00</td>\n",
       "      <td>2023-02-25T13:33:00.000</td>\n",
       "      <td>2022-03-22T00:00:00.000</td>\n",
       "      <td>Adoption</td>\n",
       "      <td>NaN</td>\n",
       "      <td>Cat</td>\n",
       "      <td>Neutered Male</td>\n",
       "      <td>11 months</td>\n",
       "      <td>Domestic Shorthair</td>\n",
       "      <td>White/Brown Tabby</td>\n",
       "    </tr>\n",
       "    <tr>\n",
       "      <th>48</th>\n",
       "      <td>A868975</td>\n",
       "      <td>*Lexy</td>\n",
       "      <td>2023-02-25 11:28:00</td>\n",
       "      <td>2023-02-25T11:28:00.000</td>\n",
       "      <td>2021-11-10T00:00:00.000</td>\n",
       "      <td>Adoption</td>\n",
       "      <td>Foster</td>\n",
       "      <td>Dog</td>\n",
       "      <td>Spayed Female</td>\n",
       "      <td>1 year</td>\n",
       "      <td>Pit Bull Mix</td>\n",
       "      <td>Black/White</td>\n",
       "    </tr>\n",
       "    <tr>\n",
       "      <th>49</th>\n",
       "      <td>A869077</td>\n",
       "      <td>*Trudy</td>\n",
       "      <td>2023-02-25 09:49:00</td>\n",
       "      <td>2023-02-25T09:49:00.000</td>\n",
       "      <td>2022-07-12T00:00:00.000</td>\n",
       "      <td>Adoption</td>\n",
       "      <td>Foster</td>\n",
       "      <td>Cat</td>\n",
       "      <td>Spayed Female</td>\n",
       "      <td>7 months</td>\n",
       "      <td>Domestic Shorthair</td>\n",
       "      <td>Orange Tabby/White</td>\n",
       "    </tr>\n",
       "  </tbody>\n",
       "</table>\n",
       "</div>"
      ],
      "text/plain": [
       "   animal_id            name            datetime                monthyear  \\\n",
       "0    A875023  Mystery Blacks 2023-02-27 07:59:00  2023-02-27T07:59:00.000   \n",
       "1    A874710          Hamlet 2023-02-27 07:59:00  2023-02-27T07:59:00.000   \n",
       "2    A874555            *Pam 2023-02-27 07:58:00  2023-02-27T07:58:00.000   \n",
       "3    A875111           Eddie 2023-02-27 07:58:00  2023-02-27T07:58:00.000   \n",
       "4    A874604             NaN 2023-02-27 07:57:00  2023-02-27T07:57:00.000   \n",
       "5    A874160         Charlie 2023-02-26 19:10:00  2023-02-26T19:10:00.000   \n",
       "6    A873912         *Gunner 2023-02-26 19:02:00  2023-02-26T19:02:00.000   \n",
       "7    A873219           *Naan 2023-02-26 18:45:00  2023-02-26T18:45:00.000   \n",
       "8    A873293        *Paprika 2023-02-26 18:43:00  2023-02-26T18:43:00.000   \n",
       "9    A875074           Mikey 2023-02-26 18:15:00  2023-02-26T18:15:00.000   \n",
       "10   A875112             NaN 2023-02-26 17:57:00  2023-02-26T17:57:00.000   \n",
       "11   A873856        *Mr. Bug 2023-02-26 17:51:00  2023-02-26T17:51:00.000   \n",
       "12   A873106          *Maisy 2023-02-26 16:19:00  2023-02-26T16:19:00.000   \n",
       "13   A873107          *Flynn 2023-02-26 16:13:00  2023-02-26T16:13:00.000   \n",
       "14   A869448             *Al 2023-02-26 15:53:00  2023-02-26T15:53:00.000   \n",
       "15   A874763            Cupo 2023-02-26 15:51:00  2023-02-26T15:51:00.000   \n",
       "16   A874121         A874121 2023-02-26 15:43:00  2023-02-26T15:43:00.000   \n",
       "17   A861398           Molly 2023-02-26 15:00:00  2023-02-26T15:00:00.000   \n",
       "18   A869178          *Simba 2023-02-26 15:00:00  2023-02-26T15:00:00.000   \n",
       "19   A844791           Tiger 2023-02-26 14:58:00  2023-02-26T14:58:00.000   \n",
       "20   A875394           Ziggy 2023-02-26 14:58:00  2023-02-26T14:58:00.000   \n",
       "21   A875386         Shakira 2023-02-26 14:55:00  2023-02-26T14:55:00.000   \n",
       "22   A874603             Pea 2023-02-26 14:17:00  2023-02-26T14:17:00.000   \n",
       "23   A874833         *Toochi 2023-02-26 13:42:00  2023-02-26T13:42:00.000   \n",
       "24   A875294          George 2023-02-26 13:31:00  2023-02-26T13:31:00.000   \n",
       "25   A874636          *Melba 2023-02-26 13:28:00  2023-02-26T13:28:00.000   \n",
       "26   A873328           Kimmy 2023-02-26 12:24:00  2023-02-26T12:24:00.000   \n",
       "27   A872680           *Maaz 2023-02-26 00:00:00  2023-02-26T00:00:00.000   \n",
       "28   A873969       *Big Beef 2023-02-25 18:46:00  2023-02-25T18:46:00.000   \n",
       "29   A872885            Bear 2023-02-25 18:45:00  2023-02-25T18:45:00.000   \n",
       "30   A868977        Cinnamon 2023-02-25 18:36:00  2023-02-25T18:36:00.000   \n",
       "31   A875215             NaN 2023-02-25 17:12:00  2023-02-25T17:12:00.000   \n",
       "32   A875355             NaN 2023-02-25 16:59:00  2023-02-25T16:59:00.000   \n",
       "33   A875354             NaN 2023-02-25 16:58:00  2023-02-25T16:58:00.000   \n",
       "34   A875353             NaN 2023-02-25 16:58:00  2023-02-25T16:58:00.000   \n",
       "35   A873239           *Sage 2023-02-25 16:57:00  2023-02-25T16:57:00.000   \n",
       "36   A874677           Major 2023-02-25 16:47:00  2023-02-25T16:47:00.000   \n",
       "37   A839506       Beau Beau 2023-02-25 16:33:00  2023-02-25T16:33:00.000   \n",
       "38   A875339             NaN 2023-02-25 16:22:00  2023-02-25T16:22:00.000   \n",
       "39   A873205        *Mustard 2023-02-25 15:59:00  2023-02-25T15:59:00.000   \n",
       "40   A872682             NaN 2023-02-25 15:52:00  2023-02-25T15:52:00.000   \n",
       "41   A875065         A875065 2023-02-25 14:44:00  2023-02-25T14:44:00.000   \n",
       "42   A874790          *Trudy 2023-02-25 14:43:00  2023-02-25T14:43:00.000   \n",
       "43   A875229           Layla 2023-02-25 14:43:00  2023-02-25T14:43:00.000   \n",
       "44   A874708           *Bess 2023-02-25 14:21:00  2023-02-25T14:21:00.000   \n",
       "45   A875020           Chulo 2023-02-25 13:38:00  2023-02-25T13:38:00.000   \n",
       "46   A872917         *Paulie 2023-02-25 13:37:00  2023-02-25T13:37:00.000   \n",
       "47   A875131           Felix 2023-02-25 13:33:00  2023-02-25T13:33:00.000   \n",
       "48   A868975           *Lexy 2023-02-25 11:28:00  2023-02-25T11:28:00.000   \n",
       "49   A869077          *Trudy 2023-02-25 09:49:00  2023-02-25T09:49:00.000   \n",
       "\n",
       "              date_of_birth     outcome_type outcome_subtype animal_type  \\\n",
       "0   2020-02-21T00:00:00.000         Transfer             Snr         Cat   \n",
       "1   2021-02-16T00:00:00.000         Transfer             Snr         Cat   \n",
       "2   2021-02-14T00:00:00.000         Transfer             Snr         Cat   \n",
       "3   2022-02-22T00:00:00.000         Transfer             Snr         Cat   \n",
       "4   2021-02-15T00:00:00.000         Transfer             Snr         Cat   \n",
       "5   2021-12-25T00:00:00.000         Adoption             NaN         Dog   \n",
       "6   2021-02-02T00:00:00.000         Adoption             NaN         Dog   \n",
       "7   2022-01-22T00:00:00.000         Adoption             NaN         Cat   \n",
       "8   2021-01-23T00:00:00.000         Adoption             NaN         Cat   \n",
       "9   2015-02-24T00:00:00.000         Adoption             NaN         Dog   \n",
       "10  2020-02-22T00:00:00.000       Euthanasia       Suffering         Dog   \n",
       "11  2020-02-01T00:00:00.000         Adoption             NaN         Dog   \n",
       "12  2022-12-20T00:00:00.000         Adoption          Foster         Cat   \n",
       "13  2022-12-20T00:00:00.000         Adoption          Foster         Cat   \n",
       "14  2020-11-18T00:00:00.000         Adoption          Foster         Cat   \n",
       "15  2019-09-17T00:00:00.000         Adoption             NaN         Dog   \n",
       "16  2022-02-06T00:00:00.000  Return to Owner             NaN         Cat   \n",
       "17  2022-05-02T00:00:00.000  Return to Owner             NaN         Dog   \n",
       "18  2022-04-14T00:00:00.000         Adoption             NaN         Cat   \n",
       "19  2019-10-20T00:00:00.000  Return to Owner             NaN         Dog   \n",
       "20  2021-02-26T00:00:00.000  Return to Owner             NaN         Cat   \n",
       "21  2020-02-26T00:00:00.000  Return to Owner             NaN         Dog   \n",
       "22  2021-07-15T00:00:00.000         Adoption             NaN       Other   \n",
       "23  2022-12-18T00:00:00.000         Adoption             NaN         Dog   \n",
       "24  2021-02-24T00:00:00.000  Return to Owner             NaN         Dog   \n",
       "25  2022-02-15T00:00:00.000         Adoption             NaN         Dog   \n",
       "26  2022-05-23T00:00:00.000         Adoption             NaN         Dog   \n",
       "27  2022-12-31T00:00:00.000         Adoption             NaN         Dog   \n",
       "28  2019-02-03T00:00:00.000         Adoption             NaN         Dog   \n",
       "29  2020-01-17T00:00:00.000         Adoption             NaN         Dog   \n",
       "30  2021-11-10T00:00:00.000         Adoption             NaN         Dog   \n",
       "31  2020-02-23T00:00:00.000         Transfer         Partner         Cat   \n",
       "32  2023-02-10T00:00:00.000         Transfer         Partner         Cat   \n",
       "33  2023-02-10T00:00:00.000         Transfer         Partner         Cat   \n",
       "34  2023-02-10T00:00:00.000         Transfer         Partner         Cat   \n",
       "35  2021-01-23T00:00:00.000         Adoption             NaN         Cat   \n",
       "36  2022-09-04T00:00:00.000         Adoption             NaN         Dog   \n",
       "37  2014-07-22T00:00:00.000  Return to Owner             NaN         Dog   \n",
       "38  2021-02-25T00:00:00.000       Euthanasia     Rabies Risk       Other   \n",
       "39  2021-01-22T00:00:00.000         Adoption             NaN         Cat   \n",
       "40  2022-12-31T00:00:00.000         Adoption             NaN         Dog   \n",
       "41  2021-02-21T00:00:00.000         Transfer         Partner         Cat   \n",
       "42  2021-02-18T00:00:00.000         Transfer         Partner         Cat   \n",
       "43  2022-05-23T00:00:00.000         Transfer         Partner         Cat   \n",
       "44  2022-11-16T00:00:00.000         Adoption             NaN         Dog   \n",
       "45  2016-02-21T00:00:00.000  Return to Owner             NaN         Dog   \n",
       "46  2022-07-17T00:00:00.000         Transfer         Partner         Dog   \n",
       "47  2022-03-22T00:00:00.000         Adoption             NaN         Cat   \n",
       "48  2021-11-10T00:00:00.000         Adoption          Foster         Dog   \n",
       "49  2022-07-12T00:00:00.000         Adoption          Foster         Cat   \n",
       "\n",
       "   sex_upon_outcome age_upon_outcome                              breed  \\\n",
       "0       Intact Male          3 years             Domestic Shorthair Mix   \n",
       "1       Intact Male          2 years                 Domestic Shorthair   \n",
       "2     Intact Female          2 years                 Domestic Shorthair   \n",
       "3       Intact Male           1 year                 Domestic Shorthair   \n",
       "4     Intact Female          2 years                 Domestic Shorthair   \n",
       "5     Neutered Male           1 year                       Pit Bull Mix   \n",
       "6     Neutered Male          2 years          Australian Cattle Dog Mix   \n",
       "7     Spayed Female           1 year                  Domestic Longhair   \n",
       "8     Neutered Male          2 years                 Domestic Shorthair   \n",
       "9     Neutered Male          8 years                Chihuahua Shorthair   \n",
       "10    Spayed Female          3 years                Chihuahua Shorthair   \n",
       "11    Neutered Male          3 years              Australian Cattle Dog   \n",
       "12    Spayed Female         2 months                 Domestic Shorthair   \n",
       "13    Spayed Female         2 months                 Domestic Shorthair   \n",
       "14    Neutered Male          2 years                 Domestic Shorthair   \n",
       "15    Neutered Male          3 years                        Plott Hound   \n",
       "16    Neutered Male           1 year             Domestic Shorthair Mix   \n",
       "17    Spayed Female         9 months                    German Shepherd   \n",
       "18    Neutered Male        10 months             Domestic Shorthair Mix   \n",
       "19    Neutered Male          3 years                           Pit Bull   \n",
       "20    Intact Female          2 years               Domestic Medium Hair   \n",
       "21    Intact Female          3 years  Labrador Retriever/Great Pyrenees   \n",
       "22      Intact Male           1 year                          Rabbit Sh   \n",
       "23    Spayed Female         2 months     Labrador Retriever/Plott Hound   \n",
       "24      Intact Male          2 years                Flat Coat Retriever   \n",
       "25    Spayed Female           1 year                     Great Pyrenees   \n",
       "26    Spayed Female         9 months             Labrador Retriever Mix   \n",
       "27    Spayed Female          1 month    Australian Cattle Dog/Catahoula   \n",
       "28    Neutered Male          4 years               American Bulldog Mix   \n",
       "29    Neutered Male          3 years                           Pit Bull   \n",
       "30    Spayed Female           1 year             Labrador Retriever Mix   \n",
       "31    Spayed Female          3 years                 Domestic Shorthair   \n",
       "32          Unknown          2 weeks                 Domestic Shorthair   \n",
       "33          Unknown          2 weeks                 Domestic Shorthair   \n",
       "34      Intact Male          2 weeks                 Domestic Shorthair   \n",
       "35    Neutered Male          2 years                 Domestic Shorthair   \n",
       "36    Neutered Male         5 months                           Pit Bull   \n",
       "37    Neutered Male          8 years      American Pit Bull Terrier Mix   \n",
       "38          Unknown          2 years                            Raccoon   \n",
       "39    Neutered Male          2 years                 Domestic Shorthair   \n",
       "40    Neutered Male          1 month    Australian Cattle Dog/Catahoula   \n",
       "41    Intact Female          2 years                 Domestic Shorthair   \n",
       "42    Spayed Female          2 years                 Domestic Shorthair   \n",
       "43    Intact Female         9 months                 Domestic Shorthair   \n",
       "44    Spayed Female         3 months                           Pit Bull   \n",
       "45    Neutered Male          7 years               American Bulldog Mix   \n",
       "46      Intact Male         7 months                German Shepherd Mix   \n",
       "47    Neutered Male        11 months                 Domestic Shorthair   \n",
       "48    Spayed Female           1 year                       Pit Bull Mix   \n",
       "49    Spayed Female         7 months                 Domestic Shorthair   \n",
       "\n",
       "                  color  \n",
       "0                 Black  \n",
       "1      Blue Tabby/White  \n",
       "2           Brown Tabby  \n",
       "3      Gray Tabby/White  \n",
       "4          Tortie/White  \n",
       "5            White/Gold  \n",
       "6            Black/Gray  \n",
       "7                  Blue  \n",
       "8           Brown Tabby  \n",
       "9                 Brown  \n",
       "10          White/Brown  \n",
       "11          Black/White  \n",
       "12          Brown Tabby  \n",
       "13          Brown Tabby  \n",
       "14          Black/White  \n",
       "15          Black/Brown  \n",
       "16          Black/White  \n",
       "17            Brown/Tan  \n",
       "18         Orange Tabby  \n",
       "19  Brown Brindle/White  \n",
       "20          White/Black  \n",
       "21            Tan/White  \n",
       "22          White/Brown  \n",
       "23                White  \n",
       "24                Black  \n",
       "25                White  \n",
       "26          Brown/White  \n",
       "27                White  \n",
       "28          Black/White  \n",
       "29            Tan/White  \n",
       "30      Chocolate/White  \n",
       "31          Brown Tabby  \n",
       "32           Blue/White  \n",
       "33           Blue Tabby  \n",
       "34                Black  \n",
       "35                 Blue  \n",
       "36        Brown Brindle  \n",
       "37          White/Brown  \n",
       "38           Gray/Black  \n",
       "39          Brown Tabby  \n",
       "40          Brown/Black  \n",
       "41    Brown Tabby/White  \n",
       "42          Brown Tabby  \n",
       "43     Gray Tabby/White  \n",
       "44           Blue/White  \n",
       "45                Brown  \n",
       "46            Tan/Black  \n",
       "47    White/Brown Tabby  \n",
       "48          Black/White  \n",
       "49   Orange Tabby/White  "
      ]
     },
     "execution_count": 12,
     "metadata": {},
     "output_type": "execute_result"
    }
   ],
   "source": [
    "# Check it out\n",
    "df.head()\n",
    "df.head(50)"
   ]
  },
  {
   "cell_type": "code",
   "execution_count": 8,
   "metadata": {},
   "outputs": [
    {
     "name": "stdout",
     "output_type": "stream",
     "text": [
      "<class 'pandas.core.frame.DataFrame'>\n",
      "RangeIndex: 1000 entries, 0 to 999\n",
      "Data columns (total 12 columns):\n",
      " #   Column            Non-Null Count  Dtype         \n",
      "---  ------            --------------  -----         \n",
      " 0   animal_id         1000 non-null   object        \n",
      " 1   name              718 non-null    object        \n",
      " 2   datetime          1000 non-null   datetime64[ns]\n",
      " 3   monthyear         1000 non-null   object        \n",
      " 4   date_of_birth     1000 non-null   object        \n",
      " 5   outcome_type      998 non-null    object        \n",
      " 6   outcome_subtype   452 non-null    object        \n",
      " 7   animal_type       1000 non-null   object        \n",
      " 8   sex_upon_outcome  1000 non-null   object        \n",
      " 9   age_upon_outcome  1000 non-null   object        \n",
      " 10  breed             1000 non-null   object        \n",
      " 11  color             1000 non-null   object        \n",
      "dtypes: datetime64[ns](1), object(11)\n",
      "memory usage: 93.9+ KB\n"
     ]
    }
   ],
   "source": [
    "# Info on the dataframe\n",
    "df.info()"
   ]
  },
  {
   "cell_type": "markdown",
   "metadata": {},
   "source": [
    "## Using Questions to Drive Both Exploration and Cleaning\n",
    "\n",
    "The best way to think about how to both explore and clean your data set is to think about what is interesting in your data, what questions you have, what you want to know and how to actually get there. We're going to ask a few questions of our dataset, and use that to drive our 'cleaning' process (and talk a little bit about how and when to clean data in the process!)"
   ]
  },
  {
   "cell_type": "markdown",
   "metadata": {
    "heading_collapsed": true,
    "hidden": true
   },
   "source": [
    "## Question 1: How old are the animals in our dataset?"
   ]
  },
  {
   "cell_type": "markdown",
   "metadata": {
    "hidden": true
   },
   "source": [
    "Let's try to answer this with the `Age upon Outcome` variable:"
   ]
  },
  {
   "cell_type": "code",
   "execution_count": 9,
   "metadata": {
    "hidden": true
   },
   "outputs": [
    {
     "data": {
      "text/plain": [
       "0       3 years\n",
       "1       2 years\n",
       "2       2 years\n",
       "3        1 year\n",
       "4       2 years\n",
       "         ...   \n",
       "995    6 months\n",
       "996     3 years\n",
       "997     2 years\n",
       "998     2 years\n",
       "999    6 months\n",
       "Name: age_upon_outcome, Length: 1000, dtype: object"
      ]
     },
     "execution_count": 9,
     "metadata": {},
     "output_type": "execute_result"
    }
   ],
   "source": [
    "df.age_upon_outcome"
   ]
  },
  {
   "cell_type": "markdown",
   "metadata": {},
   "source": [
    "Oh no! These aren't numbers! And the data is pretty dirty! Let's see how we can break this column apart, into the Age Number and the Age Unit."
   ]
  },
  {
   "cell_type": "code",
   "execution_count": 46,
   "metadata": {},
   "outputs": [
    {
     "ename": "IndexError",
     "evalue": "list index out of range",
     "output_type": "error",
     "traceback": [
      "\u001b[0;31m---------------------------------------------------------------------------\u001b[0m",
      "\u001b[0;31mIndexError\u001b[0m                                Traceback (most recent call last)",
      "Input \u001b[0;32mIn [46]\u001b[0m, in \u001b[0;36m<cell line: 16>\u001b[0;34m()\u001b[0m\n\u001b[1;32m     16\u001b[0m \u001b[38;5;28;01mfor\u001b[39;00m x \u001b[38;5;129;01min\u001b[39;00m stage2:\n\u001b[1;32m     17\u001b[0m     numberplaceholder\u001b[38;5;241m.\u001b[39mappend(x[\u001b[38;5;241m0\u001b[39m])\n\u001b[0;32m---> 18\u001b[0m     unitplaceholder\u001b[38;5;241m.\u001b[39mappend(\u001b[43mx\u001b[49m\u001b[43m[\u001b[49m\u001b[38;5;241;43m1\u001b[39;49m\u001b[43m]\u001b[49m)\n\u001b[1;32m     20\u001b[0m \u001b[38;5;28mprint\u001b[39m(numberplaceholder)\n\u001b[1;32m     21\u001b[0m \u001b[38;5;28mprint\u001b[39m(unitplaceholder)\n",
      "\u001b[0;31mIndexError\u001b[0m: list index out of range"
     ]
    }
   ],
   "source": [
    "# Split out the age number and age unit - using string methods!\n",
    "\n",
    "\n",
    "#so problems.... there aren't all single digets.... \n",
    "\n",
    "\n",
    "strings=df.age_upon_outcome\n",
    "stage2=[]\n",
    "numberplaceholder=[]\n",
    "unitplaceholder=[]\n",
    "\n",
    "for string in strings:\n",
    "    temp=string.split()\n",
    "    stage2.append(temp)\n",
    "\n",
    "for x in stage2:\n",
    "    numberplaceholder.append(x[0])\n",
    "    unitplaceholder.append(x[1])\n",
    "    \n",
    "print(numberplaceholder)\n",
    "print(unitplaceholder)\n",
    "    \n",
    "#df['Age Number']=stage2[0]\n",
    "#df['Age Unit']=stage2[1]\n",
    "\n",
    "df.head(15)\n",
    "    \n",
    "#df['Age Number'] = None\n",
    "#df['Age Unit'] = None"
   ]
  },
  {
   "cell_type": "code",
   "execution_count": null,
   "metadata": {},
   "outputs": [],
   "source": [
    "# Sanity check\n",
    "df.head()"
   ]
  },
  {
   "cell_type": "code",
   "execution_count": null,
   "metadata": {},
   "outputs": [],
   "source": [
    "# Check the data types really quick...\n",
    "df.info()"
   ]
  },
  {
   "cell_type": "code",
   "execution_count": null,
   "metadata": {},
   "outputs": [],
   "source": [
    "# Need to make our Age Number actual numbers! \n",
    "\n",
    "# But this throws an error!"
   ]
  },
  {
   "cell_type": "markdown",
   "metadata": {},
   "source": [
    "Alas! Nulls! Let's check out these null values:"
   ]
  },
  {
   "cell_type": "code",
   "execution_count": null,
   "metadata": {},
   "outputs": [],
   "source": [
    "# Check how many nulls we have in our original Age Upon Outcome column\n"
   ]
  },
  {
   "cell_type": "markdown",
   "metadata": {
    "heading_collapsed": true
   },
   "source": [
    "### Handling Missing Data"
   ]
  },
  {
   "cell_type": "markdown",
   "metadata": {
    "hidden": true
   },
   "source": [
    "A lot of the times we'll have missing information in our data set. This can sometimes be troublesome in what we're trying to do."
   ]
  },
  {
   "cell_type": "markdown",
   "metadata": {
    "hidden": true
   },
   "source": [
    "There are a few strategies we can choose from and they each have their pros/cons:\n",
    "\n",
    "- **Fill with a Relevant Value**\n",
    "    - If we know what the nulls 'should' be, easy to fill them with that value\n",
    "    - For numbers, perhaps the null indicates a 0\n",
    "    - Or, for string columns, might be easier to handle if we fill with \"Missing\" or \"Unknown\"\n",
    "- **Fill with a Reasonable Value**\n",
    "    - For numeric data, it might be acceptable to fill with a measure of central tendency (mean or median)\n",
    "    - For categorical/string data, might be acceptable to fill with the most common (mode)\n",
    "    - But beware! Filling in missing values can lead to you drawing incorrect conclusions. If most of the data from a column are missing, it's going to appear that the value you filled it in with is more common that it actually was!\n",
    "- **Specify Missing Data**\n",
    "    - If you plan to fill in missing values, it might make sense to specify that the data was originally missing by creating a new indicator column\n",
    "    - This can be helpful when you suspect that the fact the data was missing could be important for an analysis.\n",
    "- **Drop Missing Data**\n",
    "    - While you should try to keep as much relevant data as possible, sometimes the other methods don't make as much sense and it's better to remove or **drop** the missing data\n",
    "    - We typically drop missing data if very little data would be lost and/or trying to fill in the values wouldn't make sense for our use case\n",
    "\n"
   ]
  },
  {
   "cell_type": "markdown",
   "metadata": {},
   "source": [
    "So: what should we do about the missing Age upon Outcome data?\n",
    "\n",
    "<br>\n",
    "<details>\n",
    "    <summary>Possible Answer</summary>\n",
    "\n",
    "- It's probably okay to drop the missing data in this case - not very many rows with nulls in that column\n",
    "- Should look at the percentage of the total (aka what percentage of rows would be dropped) to justify this decision\n",
    "    \n",
    "    \n",
    "Note! There is a Date of Birth column that does not have any nulls! But we're specifically trying to use Age Upon Outcome here because it helps us practice some other tactics for cleaning data.\n",
    "    \n",
    "</details>\n",
    "\n"
   ]
  },
  {
   "cell_type": "code",
   "execution_count": null,
   "metadata": {},
   "outputs": [],
   "source": [
    "# No matter what - better to make this change on a COPY of the dataframe\n",
    "df_clean = \n",
    "df_clean2 = "
   ]
  },
  {
   "cell_type": "code",
   "execution_count": null,
   "metadata": {},
   "outputs": [],
   "source": [
    "# Code here to handle nulls\n",
    "df_clean = "
   ]
  },
  {
   "cell_type": "code",
   "execution_count": null,
   "metadata": {},
   "outputs": [],
   "source": [
    "# Multiple ways\n",
    "df_clean2 = "
   ]
  },
  {
   "cell_type": "code",
   "execution_count": null,
   "metadata": {},
   "outputs": [],
   "source": [
    "# Sanity check\n",
    "df_clean.isna().sum()"
   ]
  },
  {
   "cell_type": "code",
   "execution_count": null,
   "metadata": {},
   "outputs": [],
   "source": [
    "# Cool - now we can make our Age Number column an integer\n",
    "df_clean['Age Number'] = None"
   ]
  },
  {
   "cell_type": "code",
   "execution_count": null,
   "metadata": {},
   "outputs": [],
   "source": [
    "# Sanity check\n",
    "df_clean.info()"
   ]
  },
  {
   "cell_type": "markdown",
   "metadata": {},
   "source": [
    "Now let's do something about those Age Values..."
   ]
  },
  {
   "cell_type": "markdown",
   "metadata": {
    "heading_collapsed": true,
    "hidden": true
   },
   "source": [
    "### Map, Apply and Applymap"
   ]
  },
  {
   "cell_type": "markdown",
   "metadata": {
    "hidden": true
   },
   "source": [
    "Resource: https://www.geeksforgeeks.org/difference-between-map-applymap-and-apply-methods-in-pandas/\n",
    "\n",
    "The `.map()` method applies a transformation to every entry in the Series. This transformation  \"maps\" each value from the Series to a new value. A transformation can be defined by a function, Series, or dictionary.\n",
    "\n",
    "The `.apply()` method is similar to the `.map()` method for Series, but can only take in functions. \n",
    "\n",
    "The `.applymap()` method only works on DataFrames, and applies the same transformation to every element (cell) of that DataFrame."
   ]
  },
  {
   "cell_type": "code",
   "execution_count": null,
   "metadata": {},
   "outputs": [],
   "source": [
    "# Providing this dictionary to capture age values in # days (not perfect)\n",
    "age_vals = {\n",
    "    'years': 365,\n",
    "    'year': 365,\n",
    "    'months': 30,\n",
    "    'month': 30,\n",
    "    'weeks': 7,\n",
    "    'week': 7,\n",
    "    'days': 1,\n",
    "    'day': 1\n",
    "}"
   ]
  },
  {
   "cell_type": "code",
   "execution_count": null,
   "metadata": {},
   "outputs": [],
   "source": [
    "# Now, how can we transform the Age Value column to capture these values?\n",
    "df_clean['Age Unit'] = None"
   ]
  },
  {
   "cell_type": "code",
   "execution_count": null,
   "metadata": {},
   "outputs": [],
   "source": [
    "# Sanity check\n",
    "df_clean.head()"
   ]
  },
  {
   "cell_type": "code",
   "execution_count": null,
   "metadata": {},
   "outputs": [],
   "source": [
    "# Now, let's make a new Age in Days column!\n",
    "df_clean['Age in Days'] = None"
   ]
  },
  {
   "cell_type": "code",
   "execution_count": null,
   "metadata": {},
   "outputs": [],
   "source": [
    "# Sanity check\n",
    "df_clean.head()"
   ]
  },
  {
   "cell_type": "code",
   "execution_count": null,
   "metadata": {},
   "outputs": [],
   "source": [
    "# Now we can visualize!\n",
    "df_clean['Age in Days'].plot(kind='hist');"
   ]
  },
  {
   "cell_type": "code",
   "execution_count": null,
   "metadata": {},
   "outputs": [],
   "source": [
    "# Of course, we could also try...\n",
    "# Use .dt.normalize on the DateTime column to access the date!\n",
    "df_clean['Calculated Age in Days'] = None"
   ]
  },
  {
   "cell_type": "code",
   "execution_count": null,
   "metadata": {},
   "outputs": [],
   "source": [
    "# Check it\n",
    "df_clean.head()"
   ]
  },
  {
   "cell_type": "markdown",
   "metadata": {
    "heading_collapsed": true,
    "hidden": true
   },
   "source": [
    "## Question 2: Are Most of The Animals Already Fixed?"
   ]
  },
  {
   "cell_type": "markdown",
   "metadata": {
    "hidden": true
   },
   "source": [
    "Let's use `.map()` to turn the Sex upon Outcome column into a category with three values: Fixed, Intact, or Unknown. "
   ]
  },
  {
   "cell_type": "code",
   "execution_count": null,
   "metadata": {
    "hidden": true
   },
   "outputs": [],
   "source": [
    "# Check out what's currently in that column\n"
   ]
  },
  {
   "cell_type": "code",
   "execution_count": null,
   "metadata": {
    "hidden": true
   },
   "outputs": [],
   "source": [
    "# We can write a function for this\n",
    "def fixed_mapper(status):\n",
    "    '''\n",
    "    Takes in the current status of animals and outputs whether they have been fixed\n",
    "    '''\n",
    "    None"
   ]
  },
  {
   "cell_type": "code",
   "execution_count": null,
   "metadata": {
    "hidden": true
   },
   "outputs": [],
   "source": [
    "# Now let's use it!\n",
    "df_clean['Grouped Sex upon Outcome'] = None\n",
    "df_clean[['Sex upon Outcome', 'Grouped Sex upon Outcome']].head()"
   ]
  },
  {
   "cell_type": "code",
   "execution_count": null,
   "metadata": {},
   "outputs": [],
   "source": [
    "# We had a null in that column before, did that change?\n",
    "df_clean.isna().sum()"
   ]
  },
  {
   "cell_type": "code",
   "execution_count": null,
   "metadata": {},
   "outputs": [],
   "source": [
    "# Visualize it!\n",
    "df_clean['Grouped Sex upon Outcome'].value_counts().plot(kind='pie');"
   ]
  },
  {
   "cell_type": "code",
   "execution_count": null,
   "metadata": {},
   "outputs": [],
   "source": [
    "df_clean['Grouped Sex upon Outcome'].value_counts().plot(kind='bar');"
   ]
  },
  {
   "cell_type": "markdown",
   "metadata": {},
   "source": [
    "## A Quick Aside - for Lambda Functions!"
   ]
  },
  {
   "cell_type": "markdown",
   "metadata": {
    "hidden": true
   },
   "source": [
    "Simple functions can be defined just when you need them, when you would call the function. These are called **lambda functions**. These functions are **anonymous** and disappear immediately after use.\n",
    "\n",
    "These can often be great as map transformation functions, but they can only do so much.\n",
    "\n",
    "Let's use them to fill some nulls!"
   ]
  },
  {
   "cell_type": "code",
   "execution_count": null,
   "metadata": {},
   "outputs": [],
   "source": [
    "# Check which columns still have null values\n",
    "df_clean.isna().sum()"
   ]
  },
  {
   "cell_type": "markdown",
   "metadata": {},
   "source": [
    "Let's look at Outcome Subtype - a lot of nulls, why do we think that is? What would be an appropriate strategy here?\n",
    "\n",
    "<br>\n",
    "<details>\n",
    "    <summary>Possible Answer</summary>\n",
    "\n",
    "- Might be that the Type doesn't have Subtypes, or that there hasn't been an outcome yet\n",
    "- Would be appropriate to fill with N/A\n",
    "    \n",
    "</details>\n",
    "\n",
    "\n",
    "\n"
   ]
  },
  {
   "cell_type": "code",
   "execution_count": null,
   "metadata": {},
   "outputs": [],
   "source": [
    "# Let's try it!\n",
    "# Note: need to use x is np.nan as our if condition\n"
   ]
  },
  {
   "cell_type": "code",
   "execution_count": null,
   "metadata": {},
   "outputs": [],
   "source": [
    "# BUT! Pandas has a function for this\n",
    "df_clean['Outcome Subtype'] = None\n",
    "df_clean['Outcome Subtype']"
   ]
  },
  {
   "cell_type": "code",
   "execution_count": null,
   "metadata": {},
   "outputs": [],
   "source": [
    "# We can use one of these methods to fill the nulls for Outcome Type too\n",
    "# Explore the column here\n",
    "df_clean['Outcome Type'].unique()"
   ]
  },
  {
   "cell_type": "code",
   "execution_count": null,
   "metadata": {},
   "outputs": [],
   "source": [
    "# Fill nulls here\n",
    "df_clean['Outcome Type'] = None"
   ]
  },
  {
   "cell_type": "code",
   "execution_count": null,
   "metadata": {},
   "outputs": [],
   "source": [
    "# Sanity Check\n",
    "df_clean.isna().sum()"
   ]
  },
  {
   "cell_type": "markdown",
   "metadata": {},
   "source": [
    "### One More Strategy: Build a Missing Indicator\n",
    "\n",
    "While this doesn't directly answer a question we have, let's go ahead and build a new column to indicate where Name is null (just to demo).\n",
    "\n",
    "This can be quite useful when modeling, if the data being missing actually means something!"
   ]
  },
  {
   "cell_type": "code",
   "execution_count": null,
   "metadata": {},
   "outputs": [],
   "source": [
    "# Quick pandas method for this\n",
    "df_clean['Name Missing'] = None\n",
    "df_clean.head()"
   ]
  },
  {
   "cell_type": "markdown",
   "metadata": {},
   "source": [
    "Might be more interesting to build an indicator of where \"Mix\" is in the Breed column"
   ]
  },
  {
   "cell_type": "code",
   "execution_count": null,
   "metadata": {},
   "outputs": [],
   "source": [
    "# Let's do it\n",
    "df_clean['Mix Indicator'] = None"
   ]
  },
  {
   "cell_type": "code",
   "execution_count": null,
   "metadata": {},
   "outputs": [],
   "source": [
    "# Sanity check\n",
    "df_clean.head()"
   ]
  },
  {
   "cell_type": "markdown",
   "metadata": {
    "heading_collapsed": true,
    "hidden": true
   },
   "source": [
    "## Comparing Before and After"
   ]
  },
  {
   "cell_type": "markdown",
   "metadata": {
    "hidden": true
   },
   "source": [
    "We can now see all the work we did!"
   ]
  },
  {
   "cell_type": "code",
   "execution_count": null,
   "metadata": {
    "hidden": true
   },
   "outputs": [],
   "source": [
    "# Original data\n",
    "df.info()"
   ]
  },
  {
   "cell_type": "code",
   "execution_count": null,
   "metadata": {
    "hidden": true,
    "scrolled": false
   },
   "outputs": [],
   "source": [
    "# Missing data cleaned\n",
    "df_clean.info()"
   ]
  },
  {
   "cell_type": "markdown",
   "metadata": {
    "heading_collapsed": true
   },
   "source": [
    "# Level Up: `.applymap()`"
   ]
  },
  {
   "cell_type": "markdown",
   "metadata": {
    "hidden": true
   },
   "source": [
    "`.applymap()` is used to apply a transformation to each element of a DataFrame."
   ]
  },
  {
   "cell_type": "code",
   "execution_count": null,
   "metadata": {
    "hidden": true,
    "scrolled": false
   },
   "outputs": [],
   "source": [
    "# This line will apply the base `type()` function to \n",
    "# all entries of the DataFrame.\n",
    "\n",
    "df.applymap(type).head()"
   ]
  },
  {
   "cell_type": "markdown",
   "metadata": {
    "heading_collapsed": true
   },
   "source": [
    "# Level Up: Faster NumPy Methods"
   ]
  },
  {
   "cell_type": "markdown",
   "metadata": {
    "hidden": true
   },
   "source": [
    "In general, `np.where()` and `np.select()` are faster than `map()`. This won't matter too much with reasonably-sized data but can be a consideration for ***big data***."
   ]
  },
  {
   "cell_type": "code",
   "execution_count": null,
   "metadata": {},
   "outputs": [],
   "source": [
    "# Let's copy the dataframe to play around with\n",
    "level_up = df_clean.copy()"
   ]
  },
  {
   "cell_type": "code",
   "execution_count": null,
   "metadata": {},
   "outputs": [],
   "source": [
    "level_up.head()"
   ]
  },
  {
   "cell_type": "markdown",
   "metadata": {
    "heading_collapsed": true,
    "hidden": true
   },
   "source": [
    "## NumPy's `where()` Method"
   ]
  },
  {
   "cell_type": "code",
   "execution_count": null,
   "metadata": {
    "hidden": true,
    "scrolled": false
   },
   "outputs": [],
   "source": [
    "# First pass a condition\n",
    "level_up['Adopted1'] = np.where(level_up['Outcome Type'] == 'Adoption',\n",
    "                                True,  # What to fill with if the condition is true\n",
    "                                False)  # What to fill with if not true\n",
    "level_up.head()"
   ]
  },
  {
   "cell_type": "code",
   "execution_count": null,
   "metadata": {},
   "outputs": [],
   "source": [
    "level_up['Adopted2'] = level_up['Outcome Type'].map(lambda x: True if x == 'Adoption' else False)\n",
    "level_up.head()"
   ]
  },
  {
   "cell_type": "code",
   "execution_count": null,
   "metadata": {
    "hidden": true,
    "scrolled": true
   },
   "outputs": [],
   "source": [
    "# Let's time how long it takes np.where() to run by running it multiple times\n",
    "%timeit np.where(level_up['Outcome Type'] == 'Adoption', True, False)"
   ]
  },
  {
   "cell_type": "code",
   "execution_count": null,
   "metadata": {},
   "outputs": [],
   "source": [
    "# Let's time how long it takes .map() to run by running it multiple times\n",
    "%timeit level_up['Outcome Type'].map(lambda x: True if x == 'Adoption' else False)"
   ]
  },
  {
   "cell_type": "markdown",
   "metadata": {
    "heading_collapsed": true,
    "hidden": true
   },
   "source": [
    "## NumPy's `select()` Method"
   ]
  },
  {
   "cell_type": "markdown",
   "metadata": {
    "hidden": true
   },
   "source": [
    "Again, `numpy` will be faster:"
   ]
  },
  {
   "cell_type": "code",
   "execution_count": null,
   "metadata": {
    "hidden": true
   },
   "outputs": [],
   "source": [
    "# Define our list of conditions\n",
    "conditions = [level_up['Sex upon Outcome'] == 'Neutered Male',\n",
    "              level_up['Sex upon Outcome'] == 'Spayed Female',\n",
    "              level_up['Sex upon Outcome'] == 'Intact Male',\n",
    "              level_up['Sex upon Outcome'] == 'Intact Female',\n",
    "              level_up['Sex upon Outcome'] == 'Unknown',\n",
    "              level_up['Sex upon Outcome'].isna()]\n",
    "\n",
    "# Define a matching list of outcomes\n",
    "choices = ['Fixed', 'Fixed', 'Intact', 'Intact', 'Unknown', 'Unknown']"
   ]
  },
  {
   "cell_type": "code",
   "execution_count": null,
   "metadata": {
    "hidden": true
   },
   "outputs": [],
   "source": [
    "# Use np.select\n",
    "level_up['Grouped Sex upon Outcome1'] = np.select(conditions, choices)\n",
    "level_up['Grouped Sex upon Outcome1']"
   ]
  },
  {
   "cell_type": "code",
   "execution_count": null,
   "metadata": {
    "hidden": true
   },
   "outputs": [],
   "source": [
    "# Check we got the same results with np.where()\n",
    "(level_up['Grouped Sex upon Outcome1'] != level_up['Grouped Sex upon Outcome']).sum()"
   ]
  },
  {
   "cell_type": "code",
   "execution_count": null,
   "metadata": {
    "hidden": true
   },
   "outputs": [],
   "source": [
    "# Let's time how long it takes .map() to run by running it multiple times\n",
    "%timeit level_up['Sex upon Outcome'].map(fixed_mapper)"
   ]
  },
  {
   "cell_type": "code",
   "execution_count": null,
   "metadata": {
    "hidden": true
   },
   "outputs": [],
   "source": [
    "# Let's time how long it takes np.select() to run by running it multiple times\n",
    "%timeit np.select(conditions, choices)"
   ]
  }
 ],
 "metadata": {
  "kernelspec": {
   "display_name": "Python 3 (ipykernel)",
   "language": "python",
   "name": "python3"
  },
  "language_info": {
   "codemirror_mode": {
    "name": "ipython",
    "version": 3
   },
   "file_extension": ".py",
   "mimetype": "text/x-python",
   "name": "python",
   "nbconvert_exporter": "python",
   "pygments_lexer": "ipython3",
   "version": "3.9.12"
  },
  "toc": {
   "base_numbering": 1,
   "nav_menu": {},
   "number_sections": true,
   "sideBar": true,
   "skip_h1_title": false,
   "title_cell": "Table of Contents",
   "title_sidebar": "TOC",
   "toc_cell": true,
   "toc_position": {
    "height": "calc(100% - 180px)",
    "left": "10px",
    "top": "150px",
    "width": "267px"
   },
   "toc_section_display": true,
   "toc_window_display": true
  }
 },
 "nbformat": 4,
 "nbformat_minor": 4
}
